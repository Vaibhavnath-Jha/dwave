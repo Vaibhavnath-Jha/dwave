{
 "cells": [
  {
   "cell_type": "code",
   "execution_count": 1,
   "metadata": {},
   "outputs": [],
   "source": [
    "import re\n",
    "import pandas as pd\n",
    "from dwave.system import LeapHybridCQMSampler\n",
    "from dimod.lp import load as loadLP"
   ]
  },
  {
   "cell_type": "code",
   "execution_count": 8,
   "metadata": {},
   "outputs": [],
   "source": [
    "import dimod"
   ]
  },
  {
   "cell_type": "code",
   "execution_count": 2,
   "metadata": {},
   "outputs": [],
   "source": [
    "df = pd.read_csv(r\"data\\knapsack\\very_small.csv\", names=['costs', 'weights'], header=None)"
   ]
  },
  {
   "cell_type": "code",
   "execution_count": 3,
   "metadata": {},
   "outputs": [],
   "source": [
    "costs, weights = df['costs'], df['weights']"
   ]
  },
  {
   "cell_type": "code",
   "execution_count": 4,
   "metadata": {},
   "outputs": [],
   "source": [
    "with open(r\"D:\\Projects\\ProvideQ\\dwave\\knapsack_gams.lp\", 'rb') as f:\n",
    "    cqm = loadLP(f)"
   ]
  },
  {
   "cell_type": "code",
   "execution_count": 5,
   "metadata": {},
   "outputs": [],
   "source": [
    "def parse_solution(sampleset, costs, weights):\n",
    "    \"\"\"Translate the best sample returned from solver to shipped items.\n",
    "\n",
    "    Args:\n",
    "\n",
    "        sampleset (dimod.Sampleset):\n",
    "            Samples returned from the solver.\n",
    "        costs (array-like):\n",
    "            Array of costs for the items.\n",
    "        weights (array-like):\n",
    "            Array of weights for the items.\n",
    "    \"\"\"\n",
    "    feasible_sampleset = sampleset.filter(lambda row: row.is_feasible)\n",
    "\n",
    "    if not len(feasible_sampleset):\n",
    "        raise ValueError(\"No feasible solution found\")\n",
    "\n",
    "    best = feasible_sampleset.first\n",
    "    print(best)\n",
    "\n",
    "    selected_item_indices = [key for key, val in best.sample.items() if val==1.0]\n",
    "    \n",
    "    loc_sel_items = [int(re.findall('[0-9]', ele)[0]) for ele in selected_item_indices]\n",
    "    \n",
    "    selected_weights = list(weights.loc[loc_sel_items])\n",
    "    selected_costs = list(costs.loc[loc_sel_items])\n",
    "\n",
    "    print(\"\\nFound best solution at energy {}\".format(best.energy))\n",
    "    print(\"\\nSelected item numbers (0-indexed):\", selected_item_indices)\n",
    "    print(\"\\nSelected item weights: {}, total = {}\".format(selected_weights, sum(selected_weights)))\n",
    "    print(\"\\nSelected item costs: {}, total = {}\".format(selected_costs, sum(selected_costs)))"
   ]
  },
  {
   "cell_type": "code",
   "execution_count": 6,
   "metadata": {},
   "outputs": [],
   "source": [
    "sampler = LeapHybridCQMSampler()"
   ]
  },
  {
   "cell_type": "code",
   "execution_count": 7,
   "metadata": {},
   "outputs": [
    {
     "name": "stdout",
     "output_type": "stream",
     "text": [
      "Submitting CQM to solver hybrid_constrained_quadratic_model_version1.\n",
      "Sample(sample={'b1': 1.0, 'b2': 0.0}, energy=-10.0, num_occurrences=1, is_satisfied=array([ True]), is_feasible=True)\n",
      "\n",
      "Found best solution at energy -10.0\n",
      "\n",
      "Selected item numbers (0-indexed): ['b1']\n",
      "\n",
      "Selected item weights: [5], total = 5\n",
      "\n",
      "Selected item costs: [10], total = 10\n"
     ]
    }
   ],
   "source": [
    "print(\"Submitting CQM to solver {}.\".format(sampler.solver.name))\n",
    "\n",
    "sampleset = sampler.sample_cqm(cqm, label='Knapsack - gamsLP1', time_limit=5)\n",
    "\n",
    "parse_solution(sampleset, costs, weights)"
   ]
  }
 ],
 "metadata": {
  "kernelspec": {
   "display_name": "dwave",
   "language": "python",
   "name": "python3"
  },
  "language_info": {
   "codemirror_mode": {
    "name": "ipython",
    "version": 3
   },
   "file_extension": ".py",
   "mimetype": "text/x-python",
   "name": "python",
   "nbconvert_exporter": "python",
   "pygments_lexer": "ipython3",
   "version": "3.9.16"
  },
  "orig_nbformat": 4
 },
 "nbformat": 4,
 "nbformat_minor": 2
}
